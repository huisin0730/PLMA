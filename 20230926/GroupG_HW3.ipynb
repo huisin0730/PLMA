{
  "nbformat": 4,
  "nbformat_minor": 0,
  "metadata": {
    "colab": {
      "provenance": []
    },
    "kernelspec": {
      "name": "python3",
      "display_name": "Python 3"
    },
    "language_info": {
      "name": "python"
    }
  },
  "cells": [
    {
      "cell_type": "code",
      "execution_count": 1,
      "metadata": {
        "colab": {
          "base_uri": "https://localhost:8080/"
        },
        "id": "Qv1-VUbFKyxb",
        "outputId": "bbc708e9-e822-4645-abbf-82e8dcc6a7c7"
      },
      "outputs": [
        {
          "output_type": "stream",
          "name": "stdout",
          "text": [
            "I'm a student\n"
          ]
        }
      ],
      "source": [
        "print(\"I'm a student\")"
      ]
    },
    {
      "cell_type": "code",
      "source": [
        "x1=int(input(\"請輸入A點的x坐標：\"))\n",
        "y1=int(input(\"請輸入A點的y坐標：\"))\n",
        "x2=int(input(\"請輸入B點的x坐標：\"))\n",
        "y2=int(input(\"請輸入B點的y坐標：\"))\n",
        "print(((x1-x2)**2+(y1-y2)**2)**0.5)"
      ],
      "metadata": {
        "colab": {
          "base_uri": "https://localhost:8080/"
        },
        "id": "rQ-u4ikxLGh_",
        "outputId": "89c4a197-d9c1-4e8c-f8de-e417d17c4657"
      },
      "execution_count": 3,
      "outputs": [
        {
          "output_type": "stream",
          "name": "stdout",
          "text": [
            "請輸入A點的x坐標：3\n",
            "請輸入A點的y坐標：0\n",
            "請輸入B點的x坐標：0\n",
            "請輸入B點的y坐標：4\n",
            "5.0\n"
          ]
        }
      ]
    },
    {
      "cell_type": "code",
      "source": [
        "h=float(input(\"請輸入您的身高（公分）：\"))\n",
        "w=float(input(\"請輸入您的體重（公斤）：\"))\n",
        "w/=h/100\n",
        "w/=h/100\n",
        "print(\"您的BMI為\",w)\n",
        "print(int(w<18.5))"
      ],
      "metadata": {
        "colab": {
          "base_uri": "https://localhost:8080/"
        },
        "id": "leW0ohukL4Hj",
        "outputId": "275bf959-a8fc-4a3e-c7d5-d66cc8471462"
      },
      "execution_count": 6,
      "outputs": [
        {
          "output_type": "stream",
          "name": "stdout",
          "text": [
            "請輸入您的身高（公分）：160\n",
            "請輸入您的體重（公斤）：50\n",
            "您的BMI為 19.53125\n",
            "0\n"
          ]
        }
      ]
    }
  ]
}