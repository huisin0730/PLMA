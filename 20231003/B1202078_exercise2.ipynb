{
  "nbformat": 4,
  "nbformat_minor": 0,
  "metadata": {
    "colab": {
      "provenance": []
    },
    "kernelspec": {
      "name": "python3",
      "display_name": "Python 3"
    },
    "language_info": {
      "name": "python"
    }
  },
  "cells": [
    {
      "cell_type": "code",
      "source": [
        "a='C,B,A'\n",
        "b=['F','G','H']\n",
        "c=a.split(',')\n",
        "d=c+b\n",
        "d[0]='K'\n",
        "e=d.pop(2)\n",
        "print(e)\n",
        "del d[1:3]\n",
        "d.append('U')\n",
        "print(d)"
      ],
      "metadata": {
        "colab": {
          "base_uri": "https://localhost:8080/"
        },
        "id": "a1KT6narYR64",
        "outputId": "954a50e9-1f59-4d1c-b01c-573a8b229109"
      },
      "execution_count": 25,
      "outputs": [
        {
          "output_type": "stream",
          "name": "stdout",
          "text": [
            "A\n",
            "['K', 'G', 'H', 'U']\n"
          ]
        }
      ]
    },
    {
      "cell_type": "code",
      "source": [
        "h=float(input(\"請輸入您的身高（公分）：\"))\n",
        "w=float(input(\"請輸入您的體重（公斤）：\"))\n",
        "w/=h/100\n",
        "w/=h/100\n",
        "print(\"BMI:\",w)\n",
        "if w<18.5:\n",
        "  print('體位：過輕')\n",
        "elif 18.5<=w<=24:\n",
        "  print('體位：適中')\n",
        "elif 24<=w<=27:\n",
        "  print('體位：過重')\n",
        "else:\n",
        "  print('體位：肥胖')"
      ],
      "metadata": {
        "colab": {
          "base_uri": "https://localhost:8080/"
        },
        "id": "zMrxe8nvl04W",
        "outputId": "ecf0e292-911b-46a3-8d83-cd50d3f951c0"
      },
      "execution_count": 34,
      "outputs": [
        {
          "output_type": "stream",
          "name": "stdout",
          "text": [
            "請輸入您的身高（公分）：160\n",
            "請輸入您的體重（公斤）：50\n",
            "BMI: 19.53125\n",
            "體位：適中\n"
          ]
        }
      ]
    }
  ]
}