{
  "nbformat": 4,
  "nbformat_minor": 0,
  "metadata": {
    "colab": {
      "provenance": []
    },
    "kernelspec": {
      "name": "python3",
      "display_name": "Python 3"
    },
    "language_info": {
      "name": "python"
    }
  },
  "cells": [
    {
      "cell_type": "code",
      "execution_count": null,
      "metadata": {
        "colab": {
          "base_uri": "https://localhost:8080/"
        },
        "id": "15AJ8zm50_tP",
        "outputId": "b05340a3-8525-4772-c1da-889d5f8ca723"
      },
      "outputs": [
        {
          "output_type": "stream",
          "name": "stdout",
          "text": [
            "請輸入五個成績：20 60 40 30 80\n",
            "平均成績： 43.333333333333336\n"
          ]
        }
      ],
      "source": [
        "a=input('請輸入五個成績：')\n",
        "b=a.split( )\n",
        "b.sort()\n",
        "del b[4]\n",
        "del b[0]\n",
        "c=int(b[0])+int(b[1])+int(b[2])\n",
        "d=c/3\n",
        "print('平均成績：',d)"
      ]
    },
    {
      "cell_type": "code",
      "source": [
        "a=float(input('數字一：'))\n",
        "b=float(input('數字二：'))\n",
        "c=input('運算符號：')\n",
        "if c==\"+\":\n",
        "  print(a+b)\n",
        "elif c==\"-\":\n",
        "  print(a-b)\n",
        "elif c==\"*\":\n",
        "  print(a*b)\n",
        "else:print(a/b)"
      ],
      "metadata": {
        "colab": {
          "base_uri": "https://localhost:8080/"
        },
        "id": "S17etxnC-dIu",
        "outputId": "4539e947-33e4-4320-b730-e49ea244034e"
      },
      "execution_count": null,
      "outputs": [
        {
          "output_type": "stream",
          "name": "stdout",
          "text": [
            "數字一：3\n",
            "數字二：5\n",
            "運算符號：/\n",
            "0.6\n"
          ]
        }
      ]
    },
    {
      "cell_type": "code",
      "source": [
        "a=input('請輸入年份：')\n",
        "b=int(a)/4\n",
        "if int(a)>1582:\n",
        "  c=int(a)/100\n",
        "  d=int(a)/400\n",
        "  if b==int(b):\n",
        "    if c==int(c):\n",
        "      if d==int(d):\n",
        "        print(a,'是閏年')\n",
        "      else:\n",
        "        print(a,'是平年')\n",
        "    else:\n",
        "      print(a,'是閏年')\n",
        "  else:\n",
        "    print(a,'是平年')\n",
        "else:\n",
        "  if b==int(b):\n",
        "    print(a,'是閏年')\n",
        "  else:\n",
        "    print(a,'是平年')"
      ],
      "metadata": {
        "colab": {
          "base_uri": "https://localhost:8080/"
        },
        "id": "hqM5U0ug_pq5",
        "outputId": "1d9c6015-430a-4a1a-9944-f2a7112829d2"
      },
      "execution_count": 18,
      "outputs": [
        {
          "output_type": "stream",
          "name": "stdout",
          "text": [
            "請輸入年份：1500\n",
            "1500 是閏年\n"
          ]
        }
      ]
    }
  ]
}