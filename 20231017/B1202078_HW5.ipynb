{
  "nbformat": 4,
  "nbformat_minor": 0,
  "metadata": {
    "colab": {
      "provenance": []
    },
    "kernelspec": {
      "name": "python3",
      "display_name": "Python 3"
    },
    "language_info": {
      "name": "python"
    }
  },
  "cells": [
    {
      "cell_type": "code",
      "execution_count": 1,
      "metadata": {
        "colab": {
          "base_uri": "https://localhost:8080/"
        },
        "id": "kzCmhaZtV1sP",
        "outputId": "37335e03-118c-4d40-82d8-7c5b008c1a5e"
      },
      "outputs": [
        {
          "output_type": "stream",
          "name": "stdout",
          "text": [
            "         *\n",
            "        ***\n",
            "       *****\n",
            "      *******\n",
            "     *********\n",
            "    ***********\n",
            "   *************\n",
            "  ***************\n",
            " *****************\n",
            "        ***\n",
            "        ***\n",
            "        ***\n",
            "        ***\n",
            "        ***\n"
          ]
        }
      ],
      "source": [
        "a=1\n",
        "for i in range(9):\n",
        "  print((' '*(9-i))+('*'*a))\n",
        "  a+=2\n",
        "for j in range(5):\n",
        "  print((' '*(9-1))+('*'*3))"
      ]
    },
    {
      "cell_type": "code",
      "source": [
        "import random\n",
        "ans=random.sample(range(1,10),4)\n",
        "a=b=0\n",
        "num=0\n",
        "while a!=4:\n",
        "  x=list(str(input('請輸入四個數字（不會重複）:')))\n",
        "  a=b=0\n",
        "  if len(x)>4:\n",
        "    print('輸入數字過多，請重新輸入四個數字')\n",
        "  elif len(x)<4:\n",
        "    print('輸入數字過少，請重新輸入四個數字')\n",
        "  else:\n",
        "    num+=1\n",
        "    for i in range(4):\n",
        "      for j in range(4):\n",
        "        if int(x[i])==ans[j]:\n",
        "          if i==j:\n",
        "            a+=1\n",
        "          else:\n",
        "            b+=1\n",
        "    print(a,'A',b,'B')\n",
        "print(f'恭喜答對了！總共猜了{num}次')"
      ],
      "metadata": {
        "colab": {
          "base_uri": "https://localhost:8080/"
        },
        "id": "UaGdawSNb2lQ",
        "outputId": "1ee92c06-bc44-4219-c82e-277d942281cf"
      },
      "execution_count": 2,
      "outputs": [
        {
          "output_type": "stream",
          "name": "stdout",
          "text": [
            "請輸入四個數字（不會重複）:12345\n",
            "輸入數字過多，請重新輸入四個數字\n",
            "請輸入四個數字（不會重複）:1234\n",
            "0 A 1 B\n",
            "請輸入四個數字（不會重複）:1567\n",
            "1 A 1 B\n",
            "請輸入四個數字（不會重複）:1589\n",
            "0 A 2 B\n",
            "請輸入四個數字（不會重複）:9145\n",
            "2 A 0 B\n",
            "請輸入四個數字（不會重複）:9147\n",
            "1 A 0 B\n",
            "請輸入四個數字（不會重複）:9365\n",
            "4 A 0 B\n",
            "恭喜答對了！總共猜了6次\n"
          ]
        }
      ]
    }
  ]
}