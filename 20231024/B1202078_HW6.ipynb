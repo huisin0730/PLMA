{
  "nbformat": 4,
  "nbformat_minor": 0,
  "metadata": {
    "colab": {
      "provenance": []
    },
    "kernelspec": {
      "name": "python3",
      "display_name": "Python 3"
    },
    "language_info": {
      "name": "python"
    }
  },
  "cells": [
    {
      "cell_type": "code",
      "execution_count": 10,
      "metadata": {
        "colab": {
          "base_uri": "https://localhost:8080/"
        },
        "id": "9_bjsK0ZiDLc",
        "outputId": "cfc95d43-ad1e-44b9-c4f2-6ed5774cad84"
      },
      "outputs": [
        {
          "output_type": "stream",
          "name": "stdout",
          "text": [
            "請輸入聖誕樹高度:5\n",
            "請輸入7以上的數字\n",
            "請輸入聖誕樹高度:9\n",
            "         \n",
            "        *\n",
            "       ***\n",
            "      *****\n",
            "     *******\n",
            "    *********\n",
            "   ***********\n",
            "  *************\n",
            " ***************\n",
            "*****************\n",
            "       ***\n",
            "       ***\n",
            "       ***\n",
            "       ***\n",
            "       ***\n"
          ]
        }
      ],
      "source": [
        "a=1\n",
        "b=0\n",
        "def multiply(x):\n",
        "  print(' '*(b-x)+('*'*(2*x-1)))\n",
        "while b<7:\n",
        "  b=int(input('請輸入聖誕樹高度:'))\n",
        "  if b>=7:\n",
        "    for i in range(b+1):\n",
        "      multiply(i)\n",
        "    for j in range(5):\n",
        "      print((' '*(b-2))+('*'*3))\n",
        "  else:\n",
        "    print('請輸入7以上的數字')"
      ]
    },
    {
      "cell_type": "code",
      "source": [
        "h=0\n",
        "w=0\n",
        "def calculate(h,w):\n",
        "  bmi=w/((h/100)**2)\n",
        "  if bmi<18.5:\n",
        "    return bmi,'過輕'\n",
        "  elif 18.5<=bmi<=24:\n",
        "    return bmi,'適中'\n",
        "  elif 24<=bmi<=27:\n",
        "    return bmi,'過重'\n",
        "  else:\n",
        "    return bmi,'肥胖'\n",
        "while h*w==0:\n",
        "  try:\n",
        "    h=float(input('請輸入身高（公分）：'))\n",
        "    w=float(input('請輸入體重（公斤）：'))\n",
        "    a,b=calculate(h,w)\n",
        "    print('BMI：',a,'\\n體位：',b)\n",
        "  except:\n",
        "    print('輸入内容錯誤，請輸入數字')"
      ],
      "metadata": {
        "colab": {
          "base_uri": "https://localhost:8080/"
        },
        "id": "Qw9A5Pa0dklO",
        "outputId": "6dd009d0-7559-4f9e-e6a9-e70c4e49adf3"
      },
      "execution_count": 9,
      "outputs": [
        {
          "output_type": "stream",
          "name": "stdout",
          "text": [
            "請輸入身高（公分）：q\n",
            "輸入内容錯誤，請輸入數字\n",
            "請輸入身高（公分）：150\n",
            "請輸入體重（公斤）：q\n",
            "輸入内容錯誤，請輸入數字\n",
            "請輸入身高（公分）：150\n",
            "請輸入體重（公斤）：50\n",
            "BMI： 22.22222222222222 \n",
            "體位： 適中\n"
          ]
        }
      ]
    }
  ]
}