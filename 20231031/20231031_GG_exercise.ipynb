{
  "nbformat": 4,
  "nbformat_minor": 0,
  "metadata": {
    "colab": {
      "provenance": []
    },
    "kernelspec": {
      "name": "python3",
      "display_name": "Python 3"
    },
    "language_info": {
      "name": "python"
    }
  },
  "cells": [
    {
      "cell_type": "code",
      "execution_count": 2,
      "metadata": {
        "colab": {
          "base_uri": "https://localhost:8080/"
        },
        "id": "FW8yQgsVIe_X",
        "outputId": "b4f16552-b54c-45cd-b4ac-56264075ef4c"
      },
      "outputs": [
        {
          "output_type": "stream",
          "name": "stdout",
          "text": [
            "請輸入一個大於一的整數：90\n",
            "89\n"
          ]
        }
      ],
      "source": [
        "num=int(input(\"請輸入一個大於一的整數：\"))\n",
        "while num<2:\n",
        "  num=int(input(\"輸入錯誤，請重新輸入一個大於一的整數：\"))\n",
        "prime=[]\n",
        "for i in range(2,num+1):\n",
        "  prime.append(i)\n",
        "  for j in range(2,i):\n",
        "    if i%j==0:\n",
        "      prime.remove(i)\n",
        "      break\n",
        "print(prime[len(prime)-1])"
      ]
    },
    {
      "cell_type": "code",
      "source": [
        "num=input(\"請輸入一串數字，數字間以逗號隔開：\")\n",
        "num=num.split(\",\")\n",
        "numlist=[]\n",
        "for i in range(len(num)):\n",
        "  numlist.append(int(num[i]))\n",
        "result=[]\n",
        "for i in range(len(numlist)):\n",
        "  a=0\n",
        "  for j in range(len(numlist)):\n",
        "    if numlist[i]>numlist[j]:\n",
        "      a+=1\n",
        "  result.append(a)\n",
        "print(result)"
      ],
      "metadata": {
        "colab": {
          "base_uri": "https://localhost:8080/"
        },
        "id": "AI8tEXCHJaGA",
        "outputId": "a53b701f-6220-4df3-fb40-d4d10d1b2555"
      },
      "execution_count": 3,
      "outputs": [
        {
          "output_type": "stream",
          "name": "stdout",
          "text": [
            "請輸入一串數字，數字間以逗號隔開：1,4,2,7,5\n",
            "[0, 2, 1, 4, 3]\n"
          ]
        }
      ]
    },
    {
      "cell_type": "code",
      "source": [
        "ball=str(input(\"請輸入一串0或1：\"))\n",
        "result=[]\n",
        "for i in range(len(ball)):\n",
        "  count=0\n",
        "  for j in range(len(ball)):\n",
        "    if ball[j]==\"1\":\n",
        "      count+=abs(i-j)\n",
        "  result.append(count)\n",
        "print(result)"
      ],
      "metadata": {
        "colab": {
          "base_uri": "https://localhost:8080/"
        },
        "id": "WGTQBtX5JnX0",
        "outputId": "3e084566-8cf5-4cba-d739-4d9155f5c826"
      },
      "execution_count": 4,
      "outputs": [
        {
          "output_type": "stream",
          "name": "stdout",
          "text": [
            "請輸入一串0或1：10110101\n",
            "[17, 14, 11, 10, 11, 12, 15, 18]\n"
          ]
        }
      ]
    }
  ]
}